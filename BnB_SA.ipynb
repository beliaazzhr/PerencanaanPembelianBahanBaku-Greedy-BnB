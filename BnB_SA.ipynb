{
  "nbformat": 4,
  "nbformat_minor": 0,
  "metadata": {
    "colab": {
      "provenance": [],
      "include_colab_link": true
    },
    "kernelspec": {
      "name": "python3",
      "display_name": "Python 3"
    },
    "language_info": {
      "name": "python"
    }
  },
  "cells": [
    {
      "cell_type": "markdown",
      "metadata": {
        "id": "view-in-github",
        "colab_type": "text"
      },
      "source": [
        "<a href=\"https://colab.research.google.com/github/beliaazzhr/PerencanaanPembelianBahanBaku-Greedy-BnB/blob/main/BnB_SA.ipynb\" target=\"_parent\"><img src=\"https://colab.research.google.com/assets/colab-badge.svg\" alt=\"Open In Colab\"/></a>"
      ]
    },
    {
      "cell_type": "markdown",
      "source": [
        "### Algoritma Branch and Bound untuk permasalahan 0/1 Knapshack\n",
        "\n",
        "Nama Anggota Kelompok :\n",
        "\n",
        "1. Anyelir Belia Azzahra - 1301200048\n",
        "2. Anisa Adelya Ayuputri - 1301204225\n",
        "3. Faiha Adzra Darmawan - 1301202434  \n",
        "\n"
      ],
      "metadata": {
        "id": "zfZMLq1j6QjY"
      }
    },
    {
      "cell_type": "code",
      "execution_count": null,
      "metadata": {
        "colab": {
          "base_uri": "https://localhost:8080/"
        },
        "id": "fEOnPYAzsyLG",
        "outputId": "84db0796-f2a7-42be-a502-02c5f3474f67"
      },
      "outputs": [
        {
          "output_type": "stream",
          "name": "stdout",
          "text": [
            "\n",
            "Berat Maksimal yang didapatkan =  3750\n",
            "Jumlah Node =  11\n",
            "Bahan yang terpilih =  [0, 1]\n"
          ]
        }
      ],
      "source": [
        "n = 5\n",
        "W = 50000\n",
        "p = [3000, 750, 1000, 900, 200]\n",
        "w = [36000, 10000, 20000, 30000, 13000]\n",
        "p_per_w = [0.083, 0.075, 0.05, 0.03, 0.015]\n",
        "\n",
        "#untuk menyimpan stack dari node\n",
        "class Priority_Queue:\n",
        "    def __init__(self):\n",
        "        self.pqueue = [] #isi dari node\n",
        "        self.length = 0 \n",
        "    #memasukkan node ke stack\n",
        "    def insert(self, node):\n",
        "        for i in self.pqueue:\n",
        "            get_bound(i)\n",
        "        i = 0\n",
        "        while i < len(self.pqueue): #ketika i < panjang stack, ngecek kalau bound ke i ada yang lebih besar dari bound sekarang atau tidak\n",
        "            if self.pqueue[i].bound > node.bound: #apabila bound > node baru, maka akan di stop\n",
        "                break \n",
        "            i+=1\n",
        "        self.pqueue.insert(i,node) #memasukkan node ke-i ke dalam pqueue \n",
        "        self.length += 1 #menambahkan jumlah yang ada dalam pqueue\n",
        "\n",
        "    #menampilkan yang ada adalam pqueue\n",
        "    def print_pqueue(self):\n",
        "        for i in list(range(len(self.pqueue))):\n",
        "            print (\"pqueue\",i, \"=\", self.pqueue[i].bound)\n",
        "\n",
        "    #mengahapus yang ada di dalam pqueue              \n",
        "    def remove(self):\n",
        "        try:\n",
        "            result = self.pqueue.pop()\n",
        "            self.length -= 1\n",
        "        except: \n",
        "            print(\"Priority queue is empty, cannot pop from empty list.\")\n",
        "        else:\n",
        "            return result\n",
        "\n",
        "#mendeskripsikan level, profit, weigt, dan item        \n",
        "class Node:\n",
        "    def __init__(self, level, profit, weight):\n",
        "        self.level = level\n",
        "        self.profit = profit\n",
        "        self.weight = weight\n",
        "        self.items = []\n",
        "        \n",
        "#mengecek uperbound            \n",
        "def get_bound(node):\n",
        "    if node.weight >= W:\n",
        "        return 0\n",
        "    else:\n",
        "        result = node.profit\n",
        "        j = node.level + 1\n",
        "        totweight = node.weight\n",
        "        while j <= n-1 and totweight + w[j] <= W:\n",
        "            totweight = totweight + w[j]\n",
        "            result = result + p[j] \n",
        "            j+=1\n",
        "        k = j\n",
        "        if k<=n-1:\n",
        "            result = result + (W - totweight) * p_per_w[k] #rumus upperbound\n",
        "        return result\n",
        "\n",
        "\n",
        "nodes_generated = 0\n",
        "pq = Priority_Queue()\n",
        "\n",
        "v = Node(-1, 0, 0) #node nya ada pada level paling atas\n",
        "nodes_generated+=1\n",
        "maxprofit = 0 \n",
        "v.bound = get_bound(v)\n",
        "\n",
        "pq.insert(v)\n",
        "\n",
        "while pq.length != 0:\n",
        "    \n",
        "    v = pq.remove() \n",
        "\n",
        "    #mengecek apabila bound > maxprofit, apabila lebih kecil maka tidak akan dicek\n",
        "    if v.bound > maxprofit: \n",
        "        u = Node(0, 0, 0)\n",
        "        nodes_generated+=1\n",
        "        u.level = v.level + 1\n",
        "        u.profit = v.profit + p[u.level]\n",
        "        u.weight = v.weight + w[u.level]\n",
        "      \n",
        "        u.items = v.items.copy()\n",
        "        u.items.append(u.level) \n",
        "        #weight lebih kecil dari W maksimum dan profit lebih besar daru maxprofit\n",
        "        if u.weight <= W and u.profit > maxprofit: \n",
        "            maxprofit = u.profit #maxprofit diubah menjadi profit yang ada di node sekarang\n",
        "            bestitems = u.items\n",
        "        u.bound = get_bound(u)\n",
        "        #apabila bound > maxprofit, maka akan dimasukkan ke dalam stcack\n",
        "        if u.bound > maxprofit:\n",
        "            pq.insert(u)\n",
        "        u2 = Node(u.level, v.profit, v.weight)\n",
        "        nodes_generated+=1\n",
        "        u2.bound = get_bound(u2)\n",
        "        u2.items = v.items.copy()\n",
        "        if u2.bound > maxprofit:\n",
        "            pq.insert(u2)\n",
        "\n",
        "print(\"\\nBerat Maksimal yang didapatkan =\", maxprofit)\n",
        "print(\"Jumlah Node =\", nodes_generated)\n",
        "print(\"Bahan yang terpilih =\", bestitems)"
      ]
    }
  ]
}