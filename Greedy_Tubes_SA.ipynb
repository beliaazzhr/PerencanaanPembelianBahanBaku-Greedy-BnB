{
  "nbformat": 4,
  "nbformat_minor": 0,
  "metadata": {
    "colab": {
      "provenance": [],
      "include_colab_link": true
    },
    "kernelspec": {
      "name": "python3",
      "display_name": "Python 3"
    },
    "language_info": {
      "name": "python"
    }
  },
  "cells": [
    {
      "cell_type": "markdown",
      "metadata": {
        "id": "view-in-github",
        "colab_type": "text"
      },
      "source": [
        "<a href=\"https://colab.research.google.com/github/beliaazzhr/PerencanaanPembelianBahanBaku-Greedy-BnB/blob/main/Greedy_Tubes_SA.ipynb\" target=\"_parent\"><img src=\"https://colab.research.google.com/assets/colab-badge.svg\" alt=\"Open In Colab\"/></a>"
      ]
    },
    {
      "cell_type": "markdown",
      "source": [
        "### Algoritma Greedy untuk permasalahan Fractional Knapshack\n",
        "\n",
        "Nama Anggota Kelompok :\n",
        "\n",
        "1. Anyelir Belia Azzahra - 1301200048\n",
        "2. Anisa Adelya Ayuputri - 1301204225\n",
        "3. Faiha Adzra Darmawan - 1301202434  "
      ],
      "metadata": {
        "id": "TnkBJ6My6joA"
      }
    },
    {
      "cell_type": "code",
      "execution_count": null,
      "metadata": {
        "id": "u0HMOBme86uQ"
      },
      "outputs": [],
      "source": [
        "#mengembalikan max_value dan fractions dari value, weight, dan capacity yang diberikan\n",
        "def fractional_knapshack(value, weight, capacity):\n",
        "  index = list(range(len(value)))\n",
        "  ratio = [v/w for v, w in zip(value, weight)] #density\n",
        "  index.sort(key=lambda i: ratio[i], reverse=True) \n",
        "  max_value = 0\n",
        "  fractions = [0]*len(value)\n",
        "#======================================================================================\n",
        "  for i in index:\n",
        "    if weight[i] <= capacity:\n",
        "      fractions[i] = 1\n",
        "      max_value += value[i]\n",
        "      capacity -= weight[i]\n",
        "    else :\n",
        "      fractions[i] = capacity/weight[i]\n",
        "      max_value += value[i]*capacity/weight[i]\n",
        "      break\n",
        "  return max_value, fractions"
      ]
    },
    {
      "cell_type": "code",
      "source": [
        "#fai\n",
        "n = int(input('Masukkan banyaknya bahan baku : '))\n",
        "value = input('Masukkan berat masing masing bahan baku : '.format(n)).split()\n",
        "value = [int(v) for v in value]\n",
        "weight = input('Masukkan harga dari masing masing bahan baku : '.format(n)).split()\n",
        "weight = [int(w) for w in weight]\n",
        "capacity = int(input('Masukkan total uang maksimum yang dimiliki : '))\n",
        "\n",
        "max_value, fractions = fractional_knapshack(value, weight, capacity)\n",
        "print('Nilai maksimal berat bahan yang dapat dibeli : ', max_value, 'gram')\n",
        "print('Nilai pembagian bahan yang diambil : ', fractions)"
      ],
      "metadata": {
        "colab": {
          "base_uri": "https://localhost:8080/"
        },
        "id": "hf8eYP7R-Syh",
        "outputId": "820e031d-94e9-4855-da29-9f5476bf2f65"
      },
      "execution_count": null,
      "outputs": [
        {
          "output_type": "stream",
          "name": "stdout",
          "text": [
            "Masukkan banyaknya bahan baku : 5\n",
            "Masukkan berat masing masing bahan baku : 3000 1000 750 900 200\n",
            "Masukkan harga dari masing masing bahan baku : 36000 20000 10000 30000 13000\n",
            "Masukkan total uang maksimum yang dimiliki : 50000\n",
            "Nilai maksimal berat bahan yang dapat dibeli :  3950.0 gram\n",
            "Nilai pembagian bahan yang diambil :  [1, 0.2, 1, 0, 0]\n"
          ]
        }
      ]
    }
  ]
}